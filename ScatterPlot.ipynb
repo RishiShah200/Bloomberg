{
 "cells": [
  {
   "cell_type": "code",
   "execution_count": null,
   "metadata": {},
   "outputs": [],
   "source": [
    "#Scatter matrix plot of all the closing prices\n",
    "from pandas.plotting import scatter_matrix"
   ]
  },
  {
   "cell_type": "code",
   "execution_count": null,
   "metadata": {},
   "outputs": [],
   "source": [
    "car_comp = pd.concat([tesla['Close'], toyota['Close'], gm['Close']], axis=1) #maybe use this with the user inputted stock and the sector it is comparing it to\n",
    "car_comp.columns = ['Tesla Close', 'Toyota Close', 'GM Close']"
   ]
  },
  {
   "cell_type": "code",
   "execution_count": null,
   "metadata": {},
   "outputs": [],
   "source": [
    "scatter_matrix(car_comp, figsize=(10,10), alpha=0.1, hist_kwds={'bins':50});"
   ]
  },
  {
   "cell_type": "code",
   "execution_count": null,
   "metadata": {},
   "outputs": [],
   "source": [
    "#Kernel Density Estimation\n",
    "tesla['returns'].plot(kind='kde', label=\"Tesla\", figsize= (10,8), alpha=0.5)\n",
    "toyota['returns'].plot(kind='kde', label='Toyota', alpha=0.5)\n",
    "gm['returns'].plot(kind='kde', label='GM', alpha=0.5)\n",
    "plt.legend()"
   ]
  }
 ],
 "metadata": {
  "kernelspec": {
   "display_name": "Python 3",
   "language": "python",
   "name": "python3"
  },
  "language_info": {
   "codemirror_mode": {
    "name": "ipython",
    "version": 3
   },
   "file_extension": ".py",
   "mimetype": "text/x-python",
   "name": "python",
   "nbconvert_exporter": "python",
   "pygments_lexer": "ipython3",
   "version": "3.7.4"
  }
 },
 "nbformat": 4,
 "nbformat_minor": 2
}
